{
 "cells": [
  {
   "cell_type": "code",
   "execution_count": 3,
   "id": "b74a4e09-573a-4592-af11-2db537fe360e",
   "metadata": {},
   "outputs": [],
   "source": [
    "import pandas as pd\n",
    "import numpy as np\n",
    "import matplotlib.pyplot as plt\n",
    "import seaborn as sns\n",
    "sns.set_style('whitegrid')"
   ]
  },
  {
   "cell_type": "code",
   "execution_count": 121,
   "id": "80f663ce-0825-444d-9aaa-85c301289658",
   "metadata": {},
   "outputs": [],
   "source": [
    "df = pd.read_csv('C:/Users/deosd/OneDrive/Documents/HR.csv')"
   ]
  },
  {
   "cell_type": "code",
   "execution_count": 123,
   "id": "ae42740f-b466-4184-813f-579c5ad2b29e",
   "metadata": {},
   "outputs": [
    {
     "data": {
      "text/html": [
       "<div>\n",
       "<style scoped>\n",
       "    .dataframe tbody tr th:only-of-type {\n",
       "        vertical-align: middle;\n",
       "    }\n",
       "\n",
       "    .dataframe tbody tr th {\n",
       "        vertical-align: top;\n",
       "    }\n",
       "\n",
       "    .dataframe thead th {\n",
       "        text-align: right;\n",
       "    }\n",
       "</style>\n",
       "<table border=\"1\" class=\"dataframe\">\n",
       "  <thead>\n",
       "    <tr style=\"text-align: right;\">\n",
       "      <th></th>\n",
       "      <th>city</th>\n",
       "      <th>name</th>\n",
       "      <th>postalCode</th>\n",
       "      <th>province</th>\n",
       "      <th>reviews.rating</th>\n",
       "      <th>reviews.text</th>\n",
       "      <th>reviews.title</th>\n",
       "    </tr>\n",
       "  </thead>\n",
       "  <tbody>\n",
       "    <tr>\n",
       "      <th>0</th>\n",
       "      <td>Mableton</td>\n",
       "      <td>Hotel Russo Palace</td>\n",
       "      <td>30126</td>\n",
       "      <td>GA</td>\n",
       "      <td>4.0</td>\n",
       "      <td>Pleasant 10 min walk along the sea front to th...</td>\n",
       "      <td>Good location away from the crouds</td>\n",
       "    </tr>\n",
       "    <tr>\n",
       "      <th>1</th>\n",
       "      <td>Mableton</td>\n",
       "      <td>Hotel Russo Palace</td>\n",
       "      <td>30126</td>\n",
       "      <td>GA</td>\n",
       "      <td>5.0</td>\n",
       "      <td>Really lovely hotel. Stayed on the very top fl...</td>\n",
       "      <td>Great hotel with Jacuzzi bath!</td>\n",
       "    </tr>\n",
       "    <tr>\n",
       "      <th>2</th>\n",
       "      <td>Mableton</td>\n",
       "      <td>Hotel Russo Palace</td>\n",
       "      <td>30126</td>\n",
       "      <td>GA</td>\n",
       "      <td>5.0</td>\n",
       "      <td>Ett mycket bra hotell. Det som drog ner betyge...</td>\n",
       "      <td>Lugnt l��ge</td>\n",
       "    </tr>\n",
       "    <tr>\n",
       "      <th>3</th>\n",
       "      <td>Mableton</td>\n",
       "      <td>Hotel Russo Palace</td>\n",
       "      <td>30126</td>\n",
       "      <td>GA</td>\n",
       "      <td>5.0</td>\n",
       "      <td>We stayed here for four nights in October. The...</td>\n",
       "      <td>Good location on the Lido.</td>\n",
       "    </tr>\n",
       "    <tr>\n",
       "      <th>4</th>\n",
       "      <td>Mableton</td>\n",
       "      <td>Hotel Russo Palace</td>\n",
       "      <td>30126</td>\n",
       "      <td>GA</td>\n",
       "      <td>5.0</td>\n",
       "      <td>We stayed here for four nights in October. The...</td>\n",
       "      <td>������ ���������������</td>\n",
       "    </tr>\n",
       "  </tbody>\n",
       "</table>\n",
       "</div>"
      ],
      "text/plain": [
       "       city                name postalCode province  reviews.rating  \\\n",
       "0  Mableton  Hotel Russo Palace      30126       GA             4.0   \n",
       "1  Mableton  Hotel Russo Palace      30126       GA             5.0   \n",
       "2  Mableton  Hotel Russo Palace      30126       GA             5.0   \n",
       "3  Mableton  Hotel Russo Palace      30126       GA             5.0   \n",
       "4  Mableton  Hotel Russo Palace      30126       GA             5.0   \n",
       "\n",
       "                                        reviews.text  \\\n",
       "0  Pleasant 10 min walk along the sea front to th...   \n",
       "1  Really lovely hotel. Stayed on the very top fl...   \n",
       "2  Ett mycket bra hotell. Det som drog ner betyge...   \n",
       "3  We stayed here for four nights in October. The...   \n",
       "4  We stayed here for four nights in October. The...   \n",
       "\n",
       "                        reviews.title  \n",
       "0  Good location away from the crouds  \n",
       "1      Great hotel with Jacuzzi bath!  \n",
       "2                         Lugnt l��ge  \n",
       "3          Good location on the Lido.  \n",
       "4              ������ ���������������  "
      ]
     },
     "execution_count": 123,
     "metadata": {},
     "output_type": "execute_result"
    }
   ],
   "source": [
    "#df.shape\n",
    "\n",
    "df.head()"
   ]
  },
  {
   "cell_type": "code",
   "execution_count": 131,
   "id": "5d70ef84-4457-43db-af7e-845588892695",
   "metadata": {},
   "outputs": [
    {
     "name": "stdout",
     "output_type": "stream",
     "text": [
      "       reviews.rating\n",
      "count    35050.000000\n",
      "mean         3.776431\n",
      "std          1.416195\n",
      "min          0.000000\n",
      "25%          3.000000\n",
      "50%          4.000000\n",
      "75%          5.000000\n",
      "max         10.000000\n"
     ]
    }
   ],
   "source": [
    "print(df.describe())"
   ]
  },
  {
   "cell_type": "code",
   "execution_count": 135,
   "id": "70b69ffd-3540-4e68-9755-6c07f3a9dfbd",
   "metadata": {},
   "outputs": [
    {
     "name": "stdout",
     "output_type": "stream",
     "text": [
      "city              0\n",
      "name              0\n",
      "postalCode        0\n",
      "province          0\n",
      "reviews.rating    0\n",
      "dtype: int64\n"
     ]
    }
   ],
   "source": [
    "# Check for missing values in each column\n",
    "missing_data = df.isnull().sum()\n",
    "\n",
    "print(missing_data)"
   ]
  },
  {
   "cell_type": "code",
   "execution_count": 129,
   "id": "f8090175-6f35-43fc-a617-3ae0ae12c4eb",
   "metadata": {},
   "outputs": [
    {
     "name": "stdout",
     "output_type": "stream",
     "text": [
      "       city                name postalCode province  reviews.rating\n",
      "0  Mableton  Hotel Russo Palace      30126       GA             4.0\n",
      "1  Mableton  Hotel Russo Palace      30126       GA             5.0\n",
      "2  Mableton  Hotel Russo Palace      30126       GA             5.0\n",
      "3  Mableton  Hotel Russo Palace      30126       GA             5.0\n",
      "4  Mableton  Hotel Russo Palace      30126       GA             5.0\n"
     ]
    }
   ],
   "source": [
    "# Drop columns by name\n",
    "df.drop(columns=['reviews.title', 'reviews.text'], inplace=True)\n",
    "\n",
    "print(df.head())"
   ]
  },
  {
   "cell_type": "code",
   "execution_count": 133,
   "id": "7562ff33-8564-458a-a9aa-a7cbe06a51d5",
   "metadata": {},
   "outputs": [],
   "source": [
    "#remove missing \n",
    "df = df.dropna()"
   ]
  },
  {
   "cell_type": "code",
   "execution_count": 137,
   "id": "52fd0779-2696-4c0d-afe1-ca6898a1f74e",
   "metadata": {},
   "outputs": [
    {
     "data": {
      "text/plain": [
       "(34995, 5)"
      ]
     },
     "execution_count": 137,
     "metadata": {},
     "output_type": "execute_result"
    }
   ],
   "source": [
    "df.shape"
   ]
  },
  {
   "cell_type": "code",
   "execution_count": 102,
   "id": "1e60d686-8393-4655-9e3b-c7f0836e502e",
   "metadata": {
    "scrolled": true
   },
   "outputs": [],
   "source": [
    "#df.count()"
   ]
  },
  {
   "cell_type": "code",
   "execution_count": 139,
   "id": "90476f4f-e6cd-4e38-be36-d7f3af0f0cc0",
   "metadata": {},
   "outputs": [],
   "source": [
    "#concatenate\n",
    "df['location'] = df['city'] + ', ' + df['province'] + ' ' + df['postalCode']\n",
    "#print(df)"
   ]
  },
  {
   "cell_type": "code",
   "execution_count": null,
   "id": "394e34ff-4491-4da5-a2f6-a49a456ba1ee",
   "metadata": {},
   "outputs": [],
   "source": [
    "# Create the plot\n",
    "sns.displot(df['reviews.rating'], kde=False)\n",
    "\n",
    "# Apply log scale to the y-axis to make counts more readable\n",
    "plt.yscale('log')\n",
    "\n",
    "# Show the plot\n",
    "plt.show()"
   ]
  },
  {
   "cell_type": "code",
   "execution_count": 74,
   "id": "1527cffd-caaf-4cbf-8877-3974c025f3a0",
   "metadata": {},
   "outputs": [],
   "source": [
    "hotels_df = df"
   ]
  },
  {
   "cell_type": "code",
   "execution_count": 100,
   "id": "989c4b67-bff9-469f-b76f-1a1fba8d2e5f",
   "metadata": {},
   "outputs": [],
   "source": [
    "#hotels_df['']"
   ]
  },
  {
   "cell_type": "code",
   "execution_count": 96,
   "id": "79ad4da9-a2bb-41e9-a9e1-d13038a61676",
   "metadata": {},
   "outputs": [
    {
     "name": "stdout",
     "output_type": "stream",
     "text": [
      "                                                  name  average_rating  \\\n",
      "297  Homewood Suites By Hilton Albuquerque - Journa...        4.204082   \n",
      "122                    Country Inn & Suites By Carlson        3.966102   \n",
      "296                  Homewood Suites - Mall of America        4.280702   \n",
      "18                    Americinn Lodge Suites Princeton        4.744681   \n",
      "94                               City Express Irapuato        4.096154   \n",
      "\n",
      "                         location  review_count  similarity  \\\n",
      "297         Albuquerque, NM 87109         14240    0.999400   \n",
      "122  Crystal Lake, Lakewood 60014         14576    0.999241   \n",
      "296         Minneapolis, MN 55425         14111    0.999134   \n",
      "18            Princeton, IL 61356         11045    0.997863   \n",
      "94               Mobile, AL 36670         13680    0.996894   \n",
      "\n",
      "                                                  urls  \n",
      "297  https://www.tripadvisor.com/Search?q=Homewood+...  \n",
      "122  https://www.tripadvisor.com/Search?q=Country+I...  \n",
      "296  https://www.tripadvisor.com/Search?q=Homewood+...  \n",
      "18   https://www.tripadvisor.com/Search?q=Americinn...  \n",
      "94   https://www.tripadvisor.com/Search?q=City+Expr...  \n"
     ]
    }
   ],
   "source": [
    "from sklearn.metrics.pairwise import cosine_similarity\n",
    "from urllib.parse import quote_plus\n",
    "\n",
    "# If 'review_count' does not exist in the DataFrame, generate random values\n",
    "if 'review_count' not in hotels_df.columns:\n",
    "    # Generate random review counts matching the length of the DataFrame\n",
    "    np.random.seed(42)  # For reproducibility\n",
    "    hotels_df['review_count'] = np.random.randint(50, 500, size=len(hotels_df))\n",
    "\n",
    "# Step 1: Aggregate ratings for each hotel and handle location\n",
    "aggregated_hotels_df = hotels_df.groupby('name').agg(\n",
    "    average_rating=('reviews.rating', 'mean'),\n",
    "    location=('location', lambda x: x.mode()[0])  # Use the most frequent location\n",
    ").reset_index()\n",
    "\n",
    "# Step 2: Add 'review_count' column (sum of reviews for each hotel)\n",
    "aggregated_hotels_df['review_count'] = hotels_df.groupby('name')['review_count'].sum().values\n",
    "\n",
    "# Step 3: Add variance in ratings as a feature to calculate similarity better\n",
    "aggregated_hotels_df['rating_variance'] = hotels_df.groupby('name')['reviews.rating'].var().values\n",
    "\n",
    "# Step 4: Normalize features (ratings, review count, and rating variance) to make them comparable\n",
    "aggregated_hotels_df['normalized_rating'] = (aggregated_hotels_df['average_rating'] - aggregated_hotels_df['average_rating'].mean()) / aggregated_hotels_df['average_rating'].std()\n",
    "aggregated_hotels_df['normalized_review_count'] = (aggregated_hotels_df['review_count'] - aggregated_hotels_df['review_count'].mean()) / aggregated_hotels_df['review_count'].std()\n",
    "aggregated_hotels_df['normalized_rating_variance'] = (aggregated_hotels_df['rating_variance'] - aggregated_hotels_df['rating_variance'].mean()) / aggregated_hotels_df['rating_variance'].std()\n",
    "\n",
    "# Step 5: Handle missing (NaN) values: Drop rows with NaN or fill with mean/median\n",
    "aggregated_hotels_df = aggregated_hotels_df.dropna()  # Option 1: Drop rows with NaN values\n",
    "\n",
    "# Alternatively, you could fill NaNs with a default value like the mean or median:\n",
    "# aggregated_hotels_df = aggregated_hotels_df.fillna(aggregated_hotels_df.mean())  # Option 2: Fill NaNs with column mean\n",
    "\n",
    "# Combine normalized features into one matrix\n",
    "features_matrix = aggregated_hotels_df[['normalized_rating', 'normalized_review_count', 'normalized_rating_variance']].values\n",
    "\n",
    "# Step 6: Build recommendations based on cosine similarity of these features\n",
    "def build_hotel_recommendations(hotel_name):\n",
    "    try:\n",
    "        hotel_name = hotel_name.lower()\n",
    "\n",
    "        # Find the hotel index from the DataFrame (using aggregated data now)\n",
    "        try:\n",
    "            idx = aggregated_hotels_df[aggregated_hotels_df['name'].apply(lambda x: x.lower()) == hotel_name].index[0]\n",
    "        except IndexError: \n",
    "            return None  # If the hotel is not found in the list\n",
    "\n",
    "        # Compute similarity using multiple features (normalized ratings, review count, and variance)\n",
    "        cosine_sim = cosine_similarity(features_matrix[idx].reshape(1, -1), features_matrix).flatten()\n",
    "\n",
    "        # Get the top 5 most similar hotels (excluding the input hotel itself)\n",
    "        similar_hotels_idx = cosine_sim.argsort()[::-1][1:6]  # Exclude the input hotel by slicing from 1 onwards\n",
    "\n",
    "        # Extract hotel information for the recommended hotels\n",
    "        recommendations = aggregated_hotels_df.iloc[similar_hotels_idx][['name', 'average_rating', 'location', 'review_count']]\n",
    "        recommendations['similarity'] = cosine_sim[similar_hotels_idx]\n",
    "\n",
    "        return recommendations[['name', 'average_rating', 'location', 'review_count', 'similarity']]\n",
    "    except Exception as e:\n",
    "        print(f\"Error occurred: {e}\")\n",
    "        return None\n",
    "\n",
    "# Step 7: Create recommendations with proper URLs\n",
    "def get_hotel_recommendations(hotel_name):\n",
    "    recommendations = build_hotel_recommendations(hotel_name)\n",
    "    \n",
    "    if recommendations is None:\n",
    "        return recommendations\n",
    "    else:\n",
    "        # Create clean URLs using quote_plus to handle spaces and special characters\n",
    "        recommendations['urls'] = [\n",
    "            f'https://www.tripadvisor.com/Search?q={quote_plus(name)}&geo=1&ssrc=a&searchNearby=false&searchSessionId=000e238dc3e041c2.ssid&offset=0' for name in recommendations['name']\n",
    "        ]\n",
    "        \n",
    "        # Return the final recommendations\n",
    "        return recommendations[['name', 'average_rating', 'location', 'review_count', 'similarity', 'urls']]\n",
    "\n",
    "# Example usage\n",
    "hotel_name = \"Hotel Russo Palace\"\n",
    "recommendations = get_hotel_recommendations(hotel_name)\n",
    "print(recommendations)"
   ]
  },
  {
   "cell_type": "code",
   "execution_count": 98,
   "id": "38ac6c58-a110-4d59-8204-412c7b8e04cc",
   "metadata": {},
   "outputs": [],
   "source": [
    "recommendations.to_csv('sampled.csv', index=False)"
   ]
  },
  {
   "cell_type": "code",
   "execution_count": null,
   "id": "f0a80f1d-0a96-4ce6-acc7-bdc9fac0090e",
   "metadata": {},
   "outputs": [],
   "source": []
  }
 ],
 "metadata": {
  "kernelspec": {
   "display_name": "Python 3 (ipykernel)",
   "language": "python",
   "name": "python3"
  },
  "language_info": {
   "codemirror_mode": {
    "name": "ipython",
    "version": 3
   },
   "file_extension": ".py",
   "mimetype": "text/x-python",
   "name": "python",
   "nbconvert_exporter": "python",
   "pygments_lexer": "ipython3",
   "version": "3.12.7"
  }
 },
 "nbformat": 4,
 "nbformat_minor": 5
}
